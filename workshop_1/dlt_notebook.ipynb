{
 "cells": [
  {
   "cell_type": "markdown",
   "metadata": {},
   "source": [
    "### Install necessary packages\n",
    "Install dlt with duckdb:\n",
    "\n",
    "pip install dlt[duckdb]\n",
    "\n",
    "Install streamlit to visualize the duckdb data:\n",
    "\n",
    "pip install streamlit"
   ]
  },
  {
   "cell_type": "markdown",
   "metadata": {},
   "source": [
    "# Run a simple pipeline using dlt"
   ]
  },
  {
   "cell_type": "code",
   "execution_count": 14,
   "metadata": {},
   "outputs": [],
   "source": [
    "# load packages\n",
    "import dlt\n",
    "import pandas as pd"
   ]
  },
  {
   "cell_type": "code",
   "execution_count": 15,
   "metadata": {},
   "outputs": [],
   "source": [
    "# load data\n",
    "data = [\n",
    "    {\n",
    "        \"vendor_name\": \"VTS\",\n",
    "\t\t\"record_hash\": \"b00361a396177a9cb410ff61f20015ad\",\n",
    "        \"time\": {\n",
    "            \"pickup\": \"2009-06-14 23:23:00\",\n",
    "            \"dropoff\": \"2009-06-14 23:48:00\"\n",
    "        },\n",
    "        \"Trip_Distance\": 17.52,\n",
    "        \"coordinates\": {\n",
    "            \"start\": {\n",
    "                \"lon\": -73.787442,\n",
    "                \"lat\": 40.641525\n",
    "            },\n",
    "            \"end\": {\n",
    "                \"lon\": -73.980072,\n",
    "                \"lat\": 40.742963\n",
    "            }\n",
    "        },\n",
    "        \"Rate_Code\": None,\n",
    "        \"store_and_forward\": None,\n",
    "        \"Payment\": {\n",
    "            \"type\": \"Credit\",\n",
    "            \"amt\": 20.5,\n",
    "            \"surcharge\": 0,\n",
    "            \"mta_tax\": None,\n",
    "            \"tip\": 9,\n",
    "            \"tolls\": 4.15,\n",
    "\t\t\t\"status\": \"booked\"\n",
    "        },\n",
    "        \"Passenger_Count\": 2,\n",
    "        \"passengers\": [\n",
    "            {\"name\": \"John\", \"rating\": 4.9},\n",
    "            {\"name\": \"Jack\", \"rating\": 3.9}\n",
    "        ],\n",
    "        \"Stops\": [\n",
    "            {\"lon\": -73.6, \"lat\": 40.6},\n",
    "            {\"lon\": -73.5, \"lat\": 40.5}\n",
    "        ]\n",
    "    },\n",
    "]"
   ]
  },
  {
   "cell_type": "code",
   "execution_count": 16,
   "metadata": {},
   "outputs": [
    {
     "name": "stdout",
     "output_type": "stream",
     "text": [
      "Pipeline taxi_data load step completed in 0.47 seconds\n",
      "1 load package(s) were loaded to destination duckdb and into dataset taxi_rides\n",
      "The duckdb destination used duckdb:////home/jdelzio/data-engineering-zoomcamp/workshop_1/taxi_data.duckdb location to store data\n",
      "Load package 1707965941.5676076 is LOADED and contains no failed jobs\n"
     ]
    }
   ],
   "source": [
    "# create pipeline data type using dlt to send this data to duckdb (local relational db)\n",
    "pipeline = dlt.pipeline(pipeline_name=\"taxi_data\", destination=\"duckdb\", dataset_name=\"taxi_rides\")\n",
    "\n",
    "# run the pipeline with default settings and capture the outcome in info\n",
    "info = pipeline.run(data=data, table_name=\"taxi_trips\", write_disposition=\"replace\")\n",
    "\n",
    "print(info)"
   ]
  },
  {
   "cell_type": "markdown",
   "metadata": {},
   "source": [
    "# Icrementally update the data stored in duckdb"
   ]
  },
  {
   "cell_type": "code",
   "execution_count": 17,
   "metadata": {},
   "outputs": [],
   "source": [
    "# load new data\n",
    "new_data = [\n",
    "    {\n",
    "        \"vendor_name\": \"VTS\",\n",
    "\t\t\"record_hash\": \"b00361a396177a9cb410ff61f20015ad\",\n",
    "        \"time\": {\n",
    "            \"pickup\": \"2009-06-14 23:23:00\",\n",
    "            \"dropoff\": \"2009-06-14 23:48:00\"\n",
    "        },\n",
    "        \"Trip_Distance\": 17.52,\n",
    "        \"coordinates\": {\n",
    "            \"start\": {\n",
    "                \"lon\": -73.787442,\n",
    "                \"lat\": 40.641525\n",
    "            },\n",
    "            \"end\": {\n",
    "                \"lon\": -73.980072,\n",
    "                \"lat\": 40.742963\n",
    "            }\n",
    "        },\n",
    "        \"Rate_Code\": None,\n",
    "        \"store_and_forward\": None,\n",
    "        \"Payment\": {\n",
    "            \"type\": \"Credit\",\n",
    "            \"amt\": 20.5,\n",
    "            \"surcharge\": 0,\n",
    "            \"mta_tax\": None,\n",
    "            \"tip\": 9,\n",
    "            \"tolls\": 4.15,\n",
    "\t\t\t\"status\": \"cancelled\"\n",
    "        },\n",
    "        \"Passenger_Count\": 2,\n",
    "        \"passengers\": [\n",
    "            {\"name\": \"John\", \"rating\": 4.4},\n",
    "            {\"name\": \"Jack\", \"rating\": 3.6}\n",
    "        ],\n",
    "        \"Stops\": [\n",
    "            {\"lon\": -73.6, \"lat\": 40.6},\n",
    "            {\"lon\": -73.5, \"lat\": 40.5}\n",
    "        ]\n",
    "    },\n",
    "]"
   ]
  },
  {
   "cell_type": "code",
   "execution_count": 19,
   "metadata": {},
   "outputs": [
    {
     "name": "stdout",
     "output_type": "stream",
     "text": [
      "Pipeline taxi_merge load step completed in 0.78 seconds\n",
      "1 load package(s) were loaded to destination duckdb and into dataset taxi_rides\n",
      "The duckdb destination used duckdb:////home/jdelzio/data-engineering-zoomcamp/workshop_1/taxi_merge.duckdb location to store data\n",
      "Load package 1707966027.520352 is LOADED and contains no failed jobs\n"
     ]
    }
   ],
   "source": [
    "# create the pipeline with dlt\n",
    "# We now use duckdb, but you can switch to Bigquery later\n",
    "merge_pipeline = dlt.pipeline(pipeline_name='taxi_merge', destination='duckdb', dataset_name='taxi_rides')\n",
    "\n",
    "# run the pipeline with default settings, and capture the outcome\n",
    "info = merge_pipeline.run(data=new_data, \n",
    "\t\t\t\t\ttable_name=\"taxi_trips\", \n",
    "\t\t\t\t\twrite_disposition=\"merge\",\n",
    "                    primary_key=\"record_hash\")\n",
    "\n",
    "# show the outcome\n",
    "print(info)"
   ]
  }
 ],
 "metadata": {
  "kernelspec": {
   "display_name": "base",
   "language": "python",
   "name": "python3"
  },
  "language_info": {
   "codemirror_mode": {
    "name": "ipython",
    "version": 3
   },
   "file_extension": ".py",
   "mimetype": "text/x-python",
   "name": "python",
   "nbconvert_exporter": "python",
   "pygments_lexer": "ipython3",
   "version": "3.1.0"
  }
 },
 "nbformat": 4,
 "nbformat_minor": 2
}
