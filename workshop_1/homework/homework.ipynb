{
 "cells": [
  {
   "cell_type": "code",
   "execution_count": 30,
   "metadata": {},
   "outputs": [],
   "source": [
    "import dlt\n",
    "import duckdb"
   ]
  },
  {
   "cell_type": "code",
   "execution_count": 1,
   "metadata": {},
   "outputs": [],
   "source": [
    "# Questions 1 + 2: Generators\n",
    "def square_root_generator(limit):\n",
    "    n = 1\n",
    "    while n <= limit:\n",
    "        yield n ** 0.5\n",
    "        n += 1"
   ]
  },
  {
   "cell_type": "code",
   "execution_count": 4,
   "metadata": {},
   "outputs": [
    {
     "name": "stdout",
     "output_type": "stream",
     "text": [
      "8.382332347441762\n"
     ]
    }
   ],
   "source": [
    "#Q1: Sum of outputs of generator for limit = 5\n",
    "limit = 5\n",
    "generator = square_root_generator(limit)\n",
    "ans = sum([x for x in generator])\n",
    "print(ans)"
   ]
  },
  {
   "cell_type": "code",
   "execution_count": 14,
   "metadata": {},
   "outputs": [
    {
     "data": {
      "text/plain": [
       "3.605551275463989"
      ]
     },
     "execution_count": 14,
     "metadata": {},
     "output_type": "execute_result"
    }
   ],
   "source": [
    "#Q2: 13th number yielded by generator\n",
    "limit = 13\n",
    "generator = square_root_generator(limit)\n",
    "for val in generator:\n",
    "    pass\n",
    "print(val)\n"
   ]
  },
  {
   "cell_type": "code",
   "execution_count": 16,
   "metadata": {},
   "outputs": [],
   "source": [
    "# Questions 3+4: Write data from 2 generators\n",
    "def people_1():\n",
    "    for i in range(1, 6):\n",
    "        yield {\"ID\": i, \"Name\": f\"Person_{i}\", \"Age\": 25 + i, \"City\": \"City_A\"}\n",
    "\n",
    "\n",
    "def people_2():\n",
    "    for i in range(3, 9):\n",
    "        yield {\"ID\": i, \"Name\": f\"Person_{i}\", \"Age\": 30 + i, \"City\": \"City_B\", \"Occupation\": f\"Job_{i}\"}"
   ]
  },
  {
   "cell_type": "code",
   "execution_count": 71,
   "metadata": {},
   "outputs": [
    {
     "data": {
      "text/plain": [
       "LoadInfo(pipeline=<dlt.pipeline.pipeline.Pipeline object at 0x7f2d0f6ebf50>, metrics={'1707972459.4665577': [{'started_at': DateTime(2024, 2, 15, 4, 47, 39, 858734, tzinfo=Timezone('UTC')), 'finished_at': DateTime(2024, 2, 15, 4, 47, 40, 308865, tzinfo=Timezone('UTC'))}]}, destination_type='dlt.destinations.duckdb', destination_displayable_credentials='duckdb:////home/jdelzio/data-engineering-zoomcamp/workshop_1/homework/Generators.duckdb', destination_name='duckdb', environment=None, staging_type=None, staging_name=None, staging_displayable_credentials=None, destination_fingerprint='', dataset_name='people_data', loads_ids=['1707972459.4665577'], load_packages=[LoadPackageInfo(load_id='1707972459.4665577', package_path='/home/jdelzio/.dlt/pipelines/Generators/load/loaded/1707972459.4665577', state='loaded', schema=Schema generators at 139831044176976, schema_update={'_dlt_pipeline_state': {'columns': {'version': {'name': 'version', 'data_type': 'bigint', 'nullable': False}, 'engine_version': {'name': 'engine_version', 'data_type': 'bigint', 'nullable': False}, 'pipeline_name': {'name': 'pipeline_name', 'data_type': 'text', 'nullable': False}, 'state': {'name': 'state', 'data_type': 'text', 'nullable': False}, 'created_at': {'name': 'created_at', 'data_type': 'timestamp', 'nullable': False}, 'version_hash': {'name': 'version_hash', 'data_type': 'text', 'nullable': True}, '_dlt_load_id': {'name': '_dlt_load_id', 'data_type': 'text', 'nullable': False}, '_dlt_id': {'name': '_dlt_id', 'data_type': 'text', 'nullable': False, 'unique': True}}, 'write_disposition': 'append', 'name': '_dlt_pipeline_state', 'resource': '_dlt_pipeline_state', 'table_format': None}, '_dlt_version': {'name': '_dlt_version', 'columns': {'version': {'name': 'version', 'data_type': 'bigint', 'nullable': False}, 'engine_version': {'name': 'engine_version', 'data_type': 'bigint', 'nullable': False}, 'inserted_at': {'name': 'inserted_at', 'data_type': 'timestamp', 'nullable': False}, 'schema_name': {'name': 'schema_name', 'data_type': 'text', 'nullable': False}, 'version_hash': {'name': 'version_hash', 'data_type': 'text', 'nullable': False}, 'schema': {'name': 'schema', 'data_type': 'text', 'nullable': False}}, 'write_disposition': 'skip', 'resource': '_dlt_version', 'description': 'Created by DLT. Tracks schema updates', 'table_format': None}, 't_people': {'name': 't_people', 'columns': {'id': {'name': 'id', 'data_type': 'bigint', 'nullable': True}, 'name': {'name': 'name', 'data_type': 'text', 'nullable': True}, 'age': {'name': 'age', 'data_type': 'bigint', 'nullable': True}, 'city': {'name': 'city', 'data_type': 'text', 'nullable': True}, '_dlt_load_id': {'name': '_dlt_load_id', 'data_type': 'text', 'nullable': False}, '_dlt_id': {'name': '_dlt_id', 'data_type': 'text', 'nullable': False, 'unique': True}}, 'write_disposition': 'append', 'resource': 't_people', 'table_format': None}, '_dlt_loads': {'name': '_dlt_loads', 'columns': {'load_id': {'name': 'load_id', 'data_type': 'text', 'nullable': False}, 'schema_name': {'name': 'schema_name', 'data_type': 'text', 'nullable': True}, 'status': {'name': 'status', 'data_type': 'bigint', 'nullable': False}, 'inserted_at': {'name': 'inserted_at', 'data_type': 'timestamp', 'nullable': False}, 'schema_version_hash': {'name': 'schema_version_hash', 'data_type': 'text', 'nullable': True}}, 'write_disposition': 'skip', 'resource': '_dlt_loads', 'description': 'Created by DLT. Tracks completed loads', 'table_format': None}}, completed_at=DateTime(2024, 2, 15, 4, 47, 40, 295151, tzinfo=Timezone('UTC')), jobs={'completed_jobs': [LoadJobInfo(state='completed_jobs', file_path='/home/jdelzio/.dlt/pipelines/Generators/load/loaded/1707972459.4665577/completed_jobs/_dlt_pipeline_state.b2dcb03e26.0.insert_values', file_size=507, created_at=DateTime(2024, 2, 15, 4, 47, 39, 527081, tzinfo=Timezone('UTC')), elapsed=0.7680699825286865, job_file_info=ParsedLoadJobFileName(table_name='_dlt_pipeline_state', file_id='b2dcb03e26', retry_count=0, file_format='insert_values'), failed_message=None), LoadJobInfo(state='completed_jobs', file_path='/home/jdelzio/.dlt/pipelines/Generators/load/loaded/1707972459.4665577/completed_jobs/t_people.a3de909f9f.0.insert_values', file_size=285, created_at=DateTime(2024, 2, 15, 4, 47, 39, 527081, tzinfo=Timezone('UTC')), elapsed=0.7680699825286865, job_file_info=ParsedLoadJobFileName(table_name='t_people', file_id='a3de909f9f', retry_count=0, file_format='insert_values'), failed_message=None)], 'failed_jobs': [], 'new_jobs': [], 'started_jobs': []})], first_run=True)"
      ]
     },
     "execution_count": 71,
     "metadata": {},
     "output_type": "execute_result"
    }
   ],
   "source": [
    "#Q3: Load first generator and calculate sum of ages\n",
    "generator = people_1()\n",
    "pipeline = dlt.pipeline(pipeline_name=\"Generators\", destination=\"duckdb\", dataset_name=\"people_data\")\n",
    "\n",
    "# run the pipeline with default settings and capture the outcome in info\n",
    "pipeline.run(data=generator, table_name=\"t_people\", write_disposition=\"append\")\n"
   ]
  },
  {
   "cell_type": "code",
   "execution_count": 72,
   "metadata": {},
   "outputs": [
    {
     "data": {
      "text/plain": [
       "LoadInfo(pipeline=<dlt.pipeline.pipeline.Pipeline object at 0x7f2d0f6ebf50>, metrics={'1707972521.8954628': [{'started_at': DateTime(2024, 2, 15, 4, 48, 42, 256768, tzinfo=Timezone('UTC')), 'finished_at': DateTime(2024, 2, 15, 4, 48, 42, 580100, tzinfo=Timezone('UTC'))}]}, destination_type='dlt.destinations.duckdb', destination_displayable_credentials='duckdb:////home/jdelzio/data-engineering-zoomcamp/workshop_1/homework/Generators.duckdb', destination_name='duckdb', environment=None, staging_type=None, staging_name=None, staging_displayable_credentials=None, destination_fingerprint='', dataset_name='people_data', loads_ids=['1707972521.8954628'], load_packages=[LoadPackageInfo(load_id='1707972521.8954628', package_path='/home/jdelzio/.dlt/pipelines/Generators/load/loaded/1707972521.8954628', state='loaded', schema=Schema generators at 139831421705616, schema_update={'t_people': {'name': 't_people', 'columns': {'occupation': {'name': 'occupation', 'data_type': 'text', 'nullable': True}}, 'write_disposition': 'append', 'resource': 't_people', 'table_format': None}}, completed_at=DateTime(2024, 2, 15, 4, 48, 42, 560836, tzinfo=Timezone('UTC')), jobs={'completed_jobs': [LoadJobInfo(state='completed_jobs', file_path='/home/jdelzio/.dlt/pipelines/Generators/load/loaded/1707972521.8954628/completed_jobs/t_people.c24b8fe2f1.0.insert_values', file_size=327, created_at=DateTime(2024, 2, 15, 4, 48, 41, 924778, tzinfo=Timezone('UTC')), elapsed=0.6360583305358887, job_file_info=ParsedLoadJobFileName(table_name='t_people', file_id='c24b8fe2f1', retry_count=0, file_format='insert_values'), failed_message=None)], 'failed_jobs': [], 'new_jobs': [], 'started_jobs': []})], first_run=False)"
      ]
     },
     "execution_count": 72,
     "metadata": {},
     "output_type": "execute_result"
    }
   ],
   "source": [
    "#Q3: Append second generator and calculate sum of ages\n",
    "generator_2 = people_2()\n",
    "\n",
    "# run the pipeline with default settings and capture the outcome in info\n",
    "pipeline.run(data=generator_2, table_name=\"t_people\", write_disposition=\"append\")"
   ]
  },
  {
   "cell_type": "markdown",
   "metadata": {},
   "source": [
    "from streamlit web app query for sum of ages:\n",
    "\n",
    "select sum(age) from t_people"
   ]
  },
  {
   "cell_type": "code",
   "execution_count": 73,
   "metadata": {},
   "outputs": [
    {
     "data": {
      "text/plain": [
       "LoadInfo(pipeline=<dlt.pipeline.pipeline.Pipeline object at 0x7f2cf3bab590>, metrics={'1707972843.1844656': [{'started_at': DateTime(2024, 2, 15, 4, 54, 3, 586196, tzinfo=Timezone('UTC')), 'finished_at': DateTime(2024, 2, 15, 4, 54, 3, 943091, tzinfo=Timezone('UTC'))}]}, destination_type='dlt.destinations.duckdb', destination_displayable_credentials='duckdb:////home/jdelzio/data-engineering-zoomcamp/workshop_1/homework/Generators.duckdb', destination_name='duckdb', environment=None, staging_type=None, staging_name=None, staging_displayable_credentials=None, destination_fingerprint='', dataset_name='people_data', loads_ids=['1707972843.1844656'], load_packages=[LoadPackageInfo(load_id='1707972843.1844656', package_path='/home/jdelzio/.dlt/pipelines/Generators/load/loaded/1707972843.1844656', state='loaded', schema=Schema generators at 139831454978896, schema_update={'t_people_merged': {'name': 't_people_merged', 'columns': {'id': {'name': 'id', 'nullable': False, 'primary_key': True, 'data_type': 'bigint'}, 'name': {'name': 'name', 'data_type': 'text', 'nullable': True}, 'age': {'name': 'age', 'data_type': 'bigint', 'nullable': True}, 'city': {'name': 'city', 'data_type': 'text', 'nullable': True}, '_dlt_load_id': {'name': '_dlt_load_id', 'data_type': 'text', 'nullable': False}, '_dlt_id': {'name': '_dlt_id', 'data_type': 'text', 'nullable': False, 'unique': True}}, 'write_disposition': 'replace', 'resource': 't_people_merged', 'table_format': None}}, completed_at=DateTime(2024, 2, 15, 4, 54, 3, 930175, tzinfo=Timezone('UTC')), jobs={'completed_jobs': [LoadJobInfo(state='completed_jobs', file_path='/home/jdelzio/.dlt/pipelines/Generators/load/loaded/1707972843.1844656/completed_jobs/t_people_merged.e0048beb26.0.insert_values', file_size=293, created_at=DateTime(2024, 2, 15, 4, 54, 3, 254113, tzinfo=Timezone('UTC')), elapsed=0.6760616302490234, job_file_info=ParsedLoadJobFileName(table_name='t_people_merged', file_id='e0048beb26', retry_count=0, file_format='insert_values'), failed_message=None), LoadJobInfo(state='completed_jobs', file_path='/home/jdelzio/.dlt/pipelines/Generators/load/loaded/1707972843.1844656/completed_jobs/_dlt_pipeline_state.2ebd63fd96.0.insert_values', file_size=519, created_at=DateTime(2024, 2, 15, 4, 54, 3, 254113, tzinfo=Timezone('UTC')), elapsed=0.6760616302490234, job_file_info=ParsedLoadJobFileName(table_name='_dlt_pipeline_state', file_id='2ebd63fd96', retry_count=0, file_format='insert_values'), failed_message=None)], 'failed_jobs': [], 'new_jobs': [], 'started_jobs': []})], first_run=False)"
      ]
     },
     "execution_count": 73,
     "metadata": {},
     "output_type": "execute_result"
    }
   ],
   "source": [
    "#Q4: Load first generator\n",
    "generator = people_1()\n",
    "pipeline = dlt.pipeline(pipeline_name=\"Generators\", destination=\"duckdb\", dataset_name=\"people_data\")\n",
    "\n",
    "# run the pipeline with default settings and capture the outcome in info\n",
    "pipeline.run(data=generator, table_name=\"t_people_merged\", write_disposition=\"replace\", primary_key=\"id\")"
   ]
  },
  {
   "cell_type": "code",
   "execution_count": 76,
   "metadata": {},
   "outputs": [
    {
     "data": {
      "text/plain": [
       "LoadInfo(pipeline=<dlt.pipeline.pipeline.Pipeline object at 0x7f2cf34c4c90>, metrics={'1707972962.497813': [{'started_at': DateTime(2024, 2, 15, 4, 56, 2, 937971, tzinfo=Timezone('UTC')), 'finished_at': DateTime(2024, 2, 15, 4, 56, 3, 376615, tzinfo=Timezone('UTC'))}]}, destination_type='dlt.destinations.duckdb', destination_displayable_credentials='duckdb:////home/jdelzio/data-engineering-zoomcamp/workshop_1/homework/Generators.duckdb', destination_name='duckdb', environment=None, staging_type=None, staging_name=None, staging_displayable_credentials=None, destination_fingerprint='', dataset_name='people_data', loads_ids=['1707972962.497813'], load_packages=[LoadPackageInfo(load_id='1707972962.497813', package_path='/home/jdelzio/.dlt/pipelines/Generators/load/loaded/1707972962.497813', state='loaded', schema=Schema generators at 139831422558480, schema_update={}, completed_at=DateTime(2024, 2, 15, 4, 56, 3, 361078, tzinfo=Timezone('UTC')), jobs={'completed_jobs': [LoadJobInfo(state='completed_jobs', file_path='/home/jdelzio/.dlt/pipelines/Generators/load/loaded/1707972962.497813/completed_jobs/t_people_merged.8852f98a2f.0.insert_values', file_size=331, created_at=DateTime(2024, 2, 15, 4, 56, 2, 605009, tzinfo=Timezone('UTC')), elapsed=0.7560689449310303, job_file_info=ParsedLoadJobFileName(table_name='t_people_merged', file_id='8852f98a2f', retry_count=0, file_format='insert_values'), failed_message=None), LoadJobInfo(state='completed_jobs', file_path='/home/jdelzio/.dlt/pipelines/Generators/load/loaded/1707972962.497813/completed_jobs/t_people_merged.4188fea4f1.0.sql', file_size=717, created_at=DateTime(2024, 2, 15, 4, 56, 3, 21047, tzinfo=Timezone('UTC')), elapsed=0.3400309085845947, job_file_info=ParsedLoadJobFileName(table_name='t_people_merged', file_id='4188fea4f1', retry_count=0, file_format='sql'), failed_message=None)], 'failed_jobs': [], 'new_jobs': [], 'started_jobs': []})], first_run=False)"
      ]
     },
     "execution_count": 76,
     "metadata": {},
     "output_type": "execute_result"
    }
   ],
   "source": [
    "#Q4: Merge second generator\n",
    "generator_2 = people_2()\n",
    "pipeline = dlt.pipeline(pipeline_name=\"Generators\", destination=\"duckdb\", dataset_name=\"people_data\")\n",
    "\n",
    "# run the pipeline with default settings and capture the outcome in info\n",
    "pipeline.run(data=generator_2, table_name=\"t_people_merged\", write_disposition=\"merge\")"
   ]
  },
  {
   "cell_type": "markdown",
   "metadata": {},
   "source": [
    "from streamlist web app query for sum of ages:\n",
    "\n",
    "select sum(age) from t_people_merged"
   ]
  }
 ],
 "metadata": {
  "kernelspec": {
   "display_name": "base",
   "language": "python",
   "name": "python3"
  },
  "language_info": {
   "codemirror_mode": {
    "name": "ipython",
    "version": 3
   },
   "file_extension": ".py",
   "mimetype": "text/x-python",
   "name": "python",
   "nbconvert_exporter": "python",
   "pygments_lexer": "ipython3",
   "version": "3.11.5"
  }
 },
 "nbformat": 4,
 "nbformat_minor": 2
}
