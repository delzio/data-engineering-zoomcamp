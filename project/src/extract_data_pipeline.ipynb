{
 "cells": [
  {
   "cell_type": "code",
   "execution_count": 1,
   "metadata": {},
   "outputs": [],
   "source": [
    "# load libraries\n",
    "import pandas as pd"
   ]
  },
  {
   "cell_type": "code",
   "execution_count": 3,
   "metadata": {},
   "outputs": [],
   "source": [
    "# load test dataa\n",
    "df_test = pd.read_csv(\"../data/raw/Mendeley_data/100_Batches_IndPenSim_V3.csv\")"
   ]
  },
  {
   "cell_type": "code",
   "execution_count": 4,
   "metadata": {},
   "outputs": [
    {
     "data": {
      "text/plain": [
       "(113935, 2239)"
      ]
     },
     "execution_count": 4,
     "metadata": {},
     "output_type": "execute_result"
    }
   ],
   "source": [
    "df_test.shape"
   ]
  },
  {
   "cell_type": "code",
   "execution_count": 6,
   "metadata": {},
   "outputs": [],
   "source": [
    "df_clean = df_test[[\"Time (h)\",\"Penicillin concentration(P:g/L)\",\"Batch ID\"]]"
   ]
  },
  {
   "cell_type": "code",
   "execution_count": 18,
   "metadata": {},
   "outputs": [],
   "source": [
    "df_clean = df_clean.sort_values(by=[\"Batch ID\",\"Time (h)\"])"
   ]
  },
  {
   "cell_type": "code",
   "execution_count": 24,
   "metadata": {},
   "outputs": [],
   "source": [
    "df_test[[\"Time (h)\",\"Penicillin concentration(P:g/L)\",\"Batch ID\"]].to_csv(\"test.csv\")"
   ]
  },
  {
   "cell_type": "code",
   "execution_count": 41,
   "metadata": {},
   "outputs": [
    {
     "data": {
      "text/plain": [
       "1139.35"
      ]
     },
     "execution_count": 41,
     "metadata": {},
     "output_type": "execute_result"
    }
   ],
   "source": [
    "df_test.shape[0]/100"
   ]
  },
  {
   "cell_type": "code",
   "execution_count": 40,
   "metadata": {},
   "outputs": [
    {
     "data": {
      "text/plain": [
       "['Aeration rate(Fg:L/h)',\n",
       " 'Agitator RPM(RPM:RPM)',\n",
       " 'Sugar feed rate(Fs:L/h)',\n",
       " 'Acid flow rate(Fa:L/h)',\n",
       " 'Base flow rate(Fb:L/h)',\n",
       " 'Heating/cooling water flow rate(Fc:L/h)',\n",
       " 'Heating water flow rate(Fh:L/h)',\n",
       " 'Water for injection/dilution(Fw:L/h)',\n",
       " 'Air head pressure(pressure:bar)',\n",
       " 'Dumped broth flow(Fremoved:L/h)',\n",
       " 'Substrate concentration(S:g/L)',\n",
       " 'Dissolved oxygen concentration(DO2:mg/L)',\n",
       " 'Penicillin concentration(P:g/L)',\n",
       " 'Vessel Volume(V:L)',\n",
       " 'Vessel Weight(Wt:Kg)',\n",
       " 'pH(pH:pH)',\n",
       " 'Temperature(T:K)',\n",
       " 'Generated heat(Q:kJ)',\n",
       " 'carbon dioxide percent in off-gas(CO2outgas:%)',\n",
       " 'PAA flow(Fpaa:PAA flow (L/h))',\n",
       " 'PAA concentration offline(PAA_offline:PAA (g L^{-1}))',\n",
       " 'Oil flow(Foil:L/hr)',\n",
       " 'NH_3 concentration off-line(NH3_offline:NH3 (g L^{-1}))',\n",
       " 'Oxygen Uptake Rate(OUR:(g min^{-1}))',\n",
       " 'Oxygen in percent in off-gas(O2:O2  (%))',\n",
       " 'Offline Penicillin concentration(P_offline:P(g L^{-1}))',\n",
       " 'Offline Biomass concentratio(X_offline:X(g L^{-1}))',\n",
       " 'Carbon evolution rate(CER:g/h)',\n",
       " 'Ammonia shots(NH3_shots:kgs)',\n",
       " 'Viscosity(Viscosity_offline:centPoise)',\n",
       " 'Fault reference(Fault_ref:Fault ref)',\n",
       " '0 - Recipe driven 1 - Operator controlled(Control_ref:Control ref)',\n",
       " '1- No Raman spec',\n",
       " ' 1-Raman spec recorded',\n",
       " '2-PAT control(PAT_ref:PAT ref)',\n",
       " 'Batch reference(Batch_ref:Batch ref)',\n",
       " 'Batch ID',\n",
       " 'Fault flag',\n",
       " '2400',\n",
       " '2399',\n",
       " '2398',\n",
       " '2397',\n",
       " '2396',\n",
       " '2395',\n",
       " '2394',\n",
       " '2393',\n",
       " '2392',\n",
       " '2391',\n",
       " '2390',\n",
       " '2389',\n",
       " '2388',\n",
       " '2387',\n",
       " '2386',\n",
       " '2385',\n",
       " '2384',\n",
       " '2383',\n",
       " '2382',\n",
       " '2381',\n",
       " '2380',\n",
       " '2379',\n",
       " '2378',\n",
       " '2377',\n",
       " '2376',\n",
       " '2375',\n",
       " '2374',\n",
       " '2373',\n",
       " '2372',\n",
       " '2371',\n",
       " '2370',\n",
       " '2369',\n",
       " '2368',\n",
       " '2367',\n",
       " '2366',\n",
       " '2365',\n",
       " '2364',\n",
       " '2363',\n",
       " '2362',\n",
       " '2361',\n",
       " '2360',\n",
       " '2359',\n",
       " '2358',\n",
       " '2357',\n",
       " '2356',\n",
       " '2355',\n",
       " '2354',\n",
       " '2353',\n",
       " '2352',\n",
       " '2351',\n",
       " '2350',\n",
       " '2349',\n",
       " '2348',\n",
       " '2347',\n",
       " '2346',\n",
       " '2345',\n",
       " '2344',\n",
       " '2343',\n",
       " '2342',\n",
       " '2341',\n",
       " '2340']"
      ]
     },
     "execution_count": 40,
     "metadata": {},
     "output_type": "execute_result"
    }
   ],
   "source": [
    "list(df_test.columns[1:100])"
   ]
  }
 ],
 "metadata": {
  "kernelspec": {
   "display_name": ".venv",
   "language": "python",
   "name": "python3"
  },
  "language_info": {
   "codemirror_mode": {
    "name": "ipython",
    "version": 3
   },
   "file_extension": ".py",
   "mimetype": "text/x-python",
   "name": "python",
   "nbconvert_exporter": "python",
   "pygments_lexer": "ipython3",
   "version": "3.11.2"
  }
 },
 "nbformat": 4,
 "nbformat_minor": 2
}
