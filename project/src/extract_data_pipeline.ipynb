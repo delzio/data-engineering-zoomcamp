{
 "cells": [
  {
   "cell_type": "code",
   "execution_count": 1,
   "metadata": {},
   "outputs": [],
   "source": [
    "# Source libraries\n",
    "import os\n",
    "import logging\n",
    "from datetime import datetime\n",
    "# pip install apache-airflow\n",
    "from airflow import DAG\n",
    "from airflow.utils.dates import days_ago\n",
    "from airflow.operators.bash import BashOperator\n",
    "from airflow.operators.python import PythonOperator\n",
    "# pip install google-cloud-storage\n",
    "from google.cloud import storage\n",
    "# pip install apache-airflow-providers-google\n",
    "from airflow.providers.google.cloud.operators.bigquery import BigQueryCreateExternalTableOperator\n",
    "import pandas as pd\n",
    "#import pyarrow as pa\n",
    "import pyarrow.csv as pv\n",
    "import pyarrow.parquet as pq"
   ]
  },
  {
   "cell_type": "code",
   "execution_count": 2,
   "metadata": {},
   "outputs": [],
   "source": [
    "# set env variables\n",
    "os.environ[\"PROJECT_ID\"] = \"intricate-reef-411403\"\n",
    "os.environ[\"GCP_GCS_BUCKET\"] = \"test_bucket-intricate-reef-41103\"\n",
    "home = os.getenv(\"HOME\")\n",
    "os.environ[\"GOOGLE_APPLICATION_CREDENTIALS\"] = home+\"/data-engineering-zoomcamp/project/.keys/gcp.json\""
   ]
  },
  {
   "cell_type": "code",
   "execution_count": 3,
   "metadata": {},
   "outputs": [
    {
     "data": {
      "text/plain": [
       "'test_bucket-intricate-reef-41103'"
      ]
     },
     "execution_count": 3,
     "metadata": {},
     "output_type": "execute_result"
    }
   ],
   "source": [
    "os.getenv(\"GCP_GCS_BUCKET\")"
   ]
  },
  {
   "cell_type": "code",
   "execution_count": 4,
   "metadata": {},
   "outputs": [],
   "source": [
    "# Get GCP input data\n",
    "PROJECT_ID = os.environ.get(\"GCP_PROJECT_ID\")\n",
    "BUCKET = os.environ.get(\"GCP_GCS_BUCKET\")\n",
    "\n",
    "# Get file structure data\n",
    "local_data_path = home+\"/data-engineering-zoomcamp/project/data/raw/Mendeley_data/\" # this will need to change when dockerized\n",
    "temp_path = home+\"/data-engineering-zoomcamp/project/data/raw/temp/\"\n",
    "local_data_file = \"100_Batches_IndPenSim_V3.csv\"\n",
    "path_to_local_home = os.environ.get(\"AIRFLOW_HOME\", \"/opt/airflow/\")\n",
    "gcs_path = \"raw/\""
   ]
  },
  {
   "cell_type": "code",
   "execution_count": 26,
   "metadata": {},
   "outputs": [],
   "source": [
    "def raw_to_gcs(gcs_bucket, gcs_path, local_data_file, local_data_path, temp_path):\n",
    "    chunk_size = 10000\n",
    "    next_id = 1\n",
    "\n",
    "    # Loop through csv and send chunks of data as parquet files to gcs\n",
    "    for chunk in pd.read_csv(local_data_path+local_data_file, sep=\",\", chunksize=chunk_size):\n",
    "        # add unique id to data records\n",
    "        nrow = chunk.shape[0]\n",
    "        ids = list(range(next_id,next_id+nrow))\n",
    "        chunk[\"id\"] = ids\n",
    "\n",
    "        # convert df to parquet file\n",
    "        parquet_file = f\"{temp_path}insulin_batch_set_{ids[0]}.parquet\"\n",
    "        chunk.to_parquet(parquet_file, engine = 'pyarrow')\n",
    "\n",
    "        # upload to gcs\n",
    "        client = storage.Client()\n",
    "        bucket = client.get_bucket(gcs_bucket)\n",
    "        bucket_path = os.path.join(gcs_path, os.path.basename(parquet_file))\n",
    "        blob = bucket.blob(bucket_path)\n",
    "        blob.upload_from_filename(parquet_file)\n",
    "\n",
    "        # set next id\n",
    "        next_id = ids[len(ids)-1] + 1\n"
   ]
  },
  {
   "cell_type": "code",
   "execution_count": 27,
   "metadata": {},
   "outputs": [],
   "source": [
    "raw_to_gcs(gcs_bucket=BUCKET, gcs_path=gcs_path, local_data_file=local_data_file, local_data_path=local_data_path, temp_path=temp_path)"
   ]
  }
 ],
 "metadata": {
  "kernelspec": {
   "display_name": ".venv",
   "language": "python",
   "name": "python3"
  },
  "language_info": {
   "codemirror_mode": {
    "name": "ipython",
    "version": 3
   },
   "file_extension": ".py",
   "mimetype": "text/x-python",
   "name": "python",
   "nbconvert_exporter": "python",
   "pygments_lexer": "ipython3",
   "version": "3.11.2"
  }
 },
 "nbformat": 4,
 "nbformat_minor": 2
}
