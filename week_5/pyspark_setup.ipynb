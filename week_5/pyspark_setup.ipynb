{
 "cells": [
  {
   "cell_type": "markdown",
   "metadata": {},
   "source": [
    "### Download instructions\n",
    "Requirements:\n",
    " - Java JDK\n",
    " - Spark\n",
    " - Set environment var's\n",
    "    - JAVA_HOME\n",
    "    - SPARK_HOME\n",
    "- Add to path\n",
    "\n",
    "Install JDK:<br>\n",
    "`wget https://download.java.net/java/GA/jdk11/9/GPL/openjdk-11.0.2_linux-x64_bin.tar.gz`<br>\n",
    "`tar xzfv openjdk-11.0.2_linux-x64_bin.tar.gz`<br>\n",
    "\n",
    "Install Spark:<br>\n",
    "`wget https://archive.apache.org/dist/spark/spark-3.5.1/spark-3.5.1-bin-hadoop3.tgz`<br>\n",
    "`tar xzfv spark-3.3.2-bin-hadoop3.tgz`<br>\n",
    "\n",
    "Set var's and add to path:<br>\n",
    "`export JAVA_HOME=\"${HOME}/spark/jdk-11.0.2\"`<br>\n",
    "`export PATH=\"${JAVA_HOME}/bin:${PATH}\"`<br>\n",
    "`export SPARK_HOME=\"${HOME}/spark/spark-3.3.2-bin-hadoop3\"`<br>\n",
    "`export PATH=\"${SPARK_HOME}/bin:${PATH}\"`<br>\n",
    "\n",
    "*Jupyter notebooks in vs code sometimes require the env vars and paths to be set again through sys/os*\n"
   ]
  },
  {
   "cell_type": "code",
   "execution_count": 5,
   "metadata": {},
   "outputs": [
    {
     "name": "stdout",
     "output_type": "stream",
     "text": [
      "['/home/jdelzio/data-engineering-zoomcamp/week_5', '/home/jdelzio/anaconda3/lib/python311.zip', '/home/jdelzio/anaconda3/lib/python3.11', '/home/jdelzio/anaconda3/lib/python3.11/lib-dynload', '', '/home/jdelzio/anaconda3/lib/python3.11/site-packages', '/home/jdelzio/spark/spark-3.3.2-bin-hadoop3/python/lib/py4j-0.10.9.5-src.zip', '/home/jdelzio/spark/spark-3.3.2-bin-hadoop3/python']\n"
     ]
    }
   ],
   "source": [
    "import os,sys\n",
    "print(sys.path)"
   ]
  },
  {
   "cell_type": "code",
   "execution_count": null,
   "metadata": {},
   "outputs": [],
   "source": [
    "# Make sure SPARK_HOME is set to the right path\n",
    "print(os.environ[\"SPARK_HOME\"])"
   ]
  },
  {
   "cell_type": "code",
   "execution_count": 6,
   "metadata": {},
   "outputs": [],
   "source": [
    "import pyspark\n",
    "from pyspark.sql import SparkSession\n",
    "pyspark.__version__"
   ]
  }
 ],
 "metadata": {
  "kernelspec": {
   "display_name": "base",
   "language": "python",
   "name": "python3"
  },
  "language_info": {
   "codemirror_mode": {
    "name": "ipython",
    "version": 3
   },
   "file_extension": ".py",
   "mimetype": "text/x-python",
   "name": "python",
   "nbconvert_exporter": "python",
   "pygments_lexer": "ipython3",
   "version": "3.11.5"
  }
 },
 "nbformat": 4,
 "nbformat_minor": 2
}
